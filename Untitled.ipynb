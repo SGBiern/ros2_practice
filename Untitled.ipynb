{
 "cells": [
  {
   "cell_type": "code",
   "execution_count": 12,
   "id": "ec799734-d83d-4b03-981d-04255ae017ee",
   "metadata": {},
   "outputs": [],
   "source": [
    "import numpy as np\n",
    "import matplotlib.pyplot as plt\n",
    "import seaborn as sns\n",
    "import random\n",
    "from math import *"
   ]
  },
  {
   "cell_type": "code",
   "execution_count": 23,
   "id": "d150f3b9-3637-46fb-a24e-7bf6746c446f",
   "metadata": {},
   "outputs": [],
   "source": [
    "# --------\n",
    "# this helper function displays the world that a robot is in\n",
    "# it assumes the world is a square grid of some given size\n",
    "# and that landmarks is a list of landmark positions(an optional argument)\n",
    "def display_world(world_size, position, landmarks=None):\n",
    "    \n",
    "    # using seaborn, set background grid to gray\n",
    "    sns.set_style(\"dark\")\n",
    "\n",
    "    # Plot grid of values\n",
    "    world_grid = np.zeros((world_size+1, world_size+1))\n",
    "\n",
    "    # Set minor axes in between the labels\n",
    "    ax=plt.gca()\n",
    "    cols = world_size+1\n",
    "    rows = world_size+1\n",
    "\n",
    "    ax.set_xticks([x for x in range(1,cols)],minor=True )\n",
    "    ax.set_yticks([y for y in range(1,rows)],minor=True)\n",
    "    \n",
    "    # Plot grid on minor axes in gray (width = 1)\n",
    "    plt.grid(which='minor',ls='-',lw=1, color='white')\n",
    "    \n",
    "    # Plot grid on major axes in larger width\n",
    "    plt.grid(which='major',ls='-',lw=2, color='white')\n",
    "    \n",
    "    # Create an 'o' character that represents the robot\n",
    "    # ha = horizontal alignment, va = vertical\n",
    "    ax.text(position[0], position[1], 'o', ha='center', va='center', color='r', fontsize=30)\n",
    "    \n",
    "    # Draw landmarks if they exists\n",
    "    if(landmarks is not None):\n",
    "        # loop through all path indices and draw a dot (unless it's at the car's location)\n",
    "        for pos in landmarks:\n",
    "            if(pos != position):\n",
    "                ax.text(pos[0], pos[1], 'x', ha='center', va='center', color='purple', fontsize=20)\n",
    "    \n",
    "    # Display final result\n",
    "    plt.show()\n",
    "\n",
    "\n",
    "def check_for_data(num_landmarks, world_size, measurement_range, motion_noise, measurement_noise):\n",
    "    # make robot and landmarks\n",
    "    r = robot(world_size, measurement_range, motion_noise, measurement_noise)\n",
    "    r.make_landmarks(num_landmarks)\n",
    "    \n",
    "    \n",
    "    # check that sense has been implemented/data has been made\n",
    "    test_Z = r.sense()\n",
    "    if(test_Z is None):\n",
    "        raise ValueError\n",
    "        \n",
    "# --------\n",
    "# this routine makes the robot data\n",
    "# the data is a list of measurements and movements: [measurements, [dx, dy]]\n",
    "# collected over a specified number of time steps, N\n",
    "#\n",
    "def make_data(N, num_landmarks, world_size, measurement_range, motion_noise, \n",
    "              measurement_noise, distance):\n",
    "\n",
    "    # check that data has been made\n",
    "    try:\n",
    "        check_for_data(num_landmarks, world_size, measurement_range, motion_noise, measurement_noise)\n",
    "    except ValueError:\n",
    "        print('Error: You must implement the sense function in robot_class.py.')\n",
    "        return []\n",
    "    \n",
    "    complete = False\n",
    "    \n",
    "    r = robot(world_size, measurement_range, motion_noise, measurement_noise)\n",
    "    r.make_landmarks(num_landmarks)\n",
    "\n",
    "    while not complete:\n",
    "\n",
    "        data = []\n",
    "\n",
    "        seen = [False for row in range(num_landmarks)]\n",
    "    \n",
    "        # guess an initial motion\n",
    "        orientation = random.random() * 2.0 * pi\n",
    "        dx = cos(orientation) * distance\n",
    "        dy = sin(orientation) * distance\n",
    "            \n",
    "        for k in range(N-1):\n",
    "    \n",
    "            # collect sensor measurements in a list, Z\n",
    "            Z = r.sense()\n",
    "\n",
    "            # check off all landmarks that were observed \n",
    "            for i in range(len(Z)):\n",
    "                seen[Z[i][0]] = True\n",
    "    \n",
    "            # move\n",
    "            while not r.move(dx, dy):\n",
    "                # if we'd be leaving the robot world, pick instead a new direction\n",
    "                orientation = random.random() * 2.0 * pi\n",
    "                dx = cos(orientation) * distance\n",
    "                dy = sin(orientation) * distance\n",
    "\n",
    "            # collect/memorize all sensor and motion data\n",
    "            data.append([Z, [dx, dy]])\n",
    "\n",
    "        # we are done when all landmarks were observed; otherwise re-run\n",
    "        complete = (sum(seen) == num_landmarks)\n",
    "\n",
    "    print(' ')\n",
    "    print('Landmarks: ', r.landmarks)\n",
    "    print(r)\n",
    "\n",
    "\n",
    "    return data\n",
    "\n",
    "\n"
   ]
  },
  {
   "cell_type": "code",
   "execution_count": 10,
   "id": "e71bf791-2685-4907-8f8e-de5674386980",
   "metadata": {},
   "outputs": [],
   "source": [
    "class robot:\n",
    "    def __init__(self, world_size=100.0, measurement_range=30.0,\n",
    "                 motion_noise=1.0, measurement_noise=1.0):\n",
    "        self.measurement_noise = measurement_noise\n",
    "        self.world_size = world_size\n",
    "        self.measurement_range = measurement_range\n",
    "        self.x = world_size/2.0\n",
    "        self.y = world_size/2.0\n",
    "        self.motion_noise = motion_noise\n",
    "        self.landmarks = []\n",
    "        self.num_landmarks = 0\n",
    "        \n",
    "    def rand(self):\n",
    "        return np.random.rand() * 2.0 - 1.0\n",
    "\n",
    "    def move (self, dx, dy):\n",
    "        x = self.x + dx + self.rand() * self.motion_noise\n",
    "        y = self.y + dy + self.rand() * self.motion_noise\n",
    "        \n",
    "        if x < 0.0 or x> self.world_size or y < 0.0 or y > self.world_size:\n",
    "            return False\n",
    "        else:\n",
    "            self.x = x\n",
    "            self.y = y\n",
    "            return True\n",
    "    \n",
    "    def sense(self):\n",
    "        \n",
    "        measurements = []\n",
    "        \n",
    "        for index, landmark in enumerate(self.landmarks):\n",
    "            dx = landmark[0] - self.x\n",
    "            dy = landmark[1] - self.y\n",
    "            \n",
    "            noise = self.rand() * self.measurement_noise\n",
    "            dx += noise\n",
    "            dy += noise\n",
    "            \n",
    "            if (abs(dx)< self.measurement_range and abs(dy) < self.measurement_range):\n",
    "                measurements.append([index, dx, dy])\n",
    "                \n",
    "        return measurements\n",
    "    \n",
    "    def make_landmarks(self, num_landmarks):\n",
    "        self.landmarks = []\n",
    "        for i in range(num_landmarks):\n",
    "            self.landmarks.append([round(random.random() * self.world_size),\n",
    "                                   round(random.random() * self.world_size)])\n",
    "        self.num_landmarks = num_landmarks\n",
    "        \n",
    "    def __repr__(self):\n",
    "        return f'Robot : x={self.x:.5f}, y={self.y:.5f}'\n",
    "        "
   ]
  },
  {
   "cell_type": "code",
   "execution_count": 11,
   "id": "4062cb9c-3520-48bc-a618-0f98e537c22a",
   "metadata": {},
   "outputs": [
    {
     "name": "stdout",
     "output_type": "stream",
     "text": [
      "Robot : x=5.00000, y=5.00000\n"
     ]
    }
   ],
   "source": [
    "world_size         = 10.0    # size of world (square)\n",
    "measurement_range  = 5.0     # range at which we can sense landmarks\n",
    "motion_noise       = 0.2      # noise in robot motion\n",
    "measurement_noise  = 0.2      # noise in the measurements\n",
    "\n",
    "# instantiate a robot, r\n",
    "r = robot(world_size, measurement_range, motion_noise, measurement_noise)\n",
    "\n",
    "# print out the location of r\n",
    "print(r)"
   ]
  },
  {
   "cell_type": "code",
   "execution_count": 14,
   "id": "3c47b2ae-e5cc-466a-b767-7544472a11bc",
   "metadata": {},
   "outputs": [
    {
     "name": "stdout",
     "output_type": "stream",
     "text": [
      "Robot : x=5.00000, y=5.00000\n"
     ]
    },
    {
     "data": {
      "image/png": "[encoded data removed]",
      "text/plain": [
       "<Figure size 500x500 with 1 Axes>"
      ]
     },
     "metadata": {},
     "output_type": "display_data"
    }
   ],
   "source": [
    "# define figure size\n",
    "plt.rcParams[\"figure.figsize\"] = (5,5)\n",
    "\n",
    "# call display_world and display the robot in it's grid world\n",
    "print(r)\n",
    "display_world(int(world_size), [r.x, r.y])"
   ]
  },
  {
   "cell_type": "code",
   "execution_count": 15,
   "id": "2b87af08-0ad3-4bf2-b937-c38b6072c869",
   "metadata": {},
   "outputs": [
    {
     "name": "stdout",
     "output_type": "stream",
     "text": [
      "Robot : x=5.82425, y=6.97098\n"
     ]
    },
    {
     "data": {
      "image/png": "[encoded data removed]",
      "text/plain": [
       "<Figure size 500x500 with 1 Axes>"
      ]
     },
     "metadata": {},
     "output_type": "display_data"
    }
   ],
   "source": [
    "# choose values of dx and dy (negative works, too)\n",
    "dx = 1\n",
    "dy = 2\n",
    "r.move(dx, dy)\n",
    "\n",
    "# print out the exact location\n",
    "print(r)\n",
    "\n",
    "# display the world after movement, not that this is the same call as before\n",
    "# the robot tracks its own movement\n",
    "display_world(int(world_size), [r.x, r.y])"
   ]
  },
  {
   "cell_type": "code",
   "execution_count": 19,
   "id": "2eb37110-91af-4ac2-b53d-842466f64bf1",
   "metadata": {},
   "outputs": [
    {
     "name": "stdout",
     "output_type": "stream",
     "text": [
      "Robot : x=5.82425, y=6.97098\n"
     ]
    },
    {
     "data": {
      "image/png": "[encoded data removed]",
      "text/plain": [
       "<Figure size 500x500 with 1 Axes>"
      ]
     },
     "metadata": {},
     "output_type": "display_data"
    },
    {
     "name": "stdout",
     "output_type": "stream",
     "text": [
      "Landmark locations [x,y]:  [[10, 5], [4, 9], [7, 8]]\n"
     ]
    }
   ],
   "source": [
    "# create any number of landmarks\n",
    "num_landmarks = 3\n",
    "r.make_landmarks(num_landmarks)\n",
    "\n",
    "# print out our robot's exact location\n",
    "print(r)\n",
    "\n",
    "# display the world including these landmarks\n",
    "display_world(int(world_size), [r.x, r.y], r.landmarks)\n",
    "\n",
    "# print the locations of the landmarks\n",
    "print('Landmark locations [x,y]: ', r.landmarks)"
   ]
  },
  {
   "cell_type": "code",
   "execution_count": 20,
   "id": "1a7dcd62-1d1c-4c3c-beb1-0561fa5f8dfe",
   "metadata": {},
   "outputs": [
    {
     "name": "stdout",
     "output_type": "stream",
     "text": [
      "[[0, 3.9764237690590174, -2.1703066968138915], [1, -1.7069663914044264, 2.1463031427226644], [2, 1.3577781342172965, 1.2110476683443876]]\n"
     ]
    }
   ],
   "source": [
    "# try to sense any surrounding landmarks\n",
    "measurements = r.sense()\n",
    "\n",
    "# this will print out an empty list if `sense` has not been implemented\n",
    "print(measurements)\n"
   ]
  },
  {
   "cell_type": "code",
   "execution_count": 21,
   "id": "e9abe5b4-5d24-42a8-b47f-ed4396102b52",
   "metadata": {},
   "outputs": [
    {
     "name": "stdout",
     "output_type": "stream",
     "text": [
      "[[[[0, 3.9764237690590174, -2.1703066968138915], [1, -1.7069663914044264, 2.1463031427226644], [2, 1.3577781342172965, 1.2110476683443876]], [1, 2]]]\n"
     ]
    }
   ],
   "source": [
    "data = []\n",
    "\n",
    "# after a robot first senses, then moves (one time step)\n",
    "# that data is appended like so:\n",
    "data.append([measurements, [dx, dy]])\n",
    "\n",
    "# for our example movement and measurement\n",
    "print(data)"
   ]
  },
  {
   "cell_type": "code",
   "execution_count": 22,
   "id": "ab97dc21-3127-4647-8a5e-6408ec1735ed",
   "metadata": {},
   "outputs": [
    {
     "name": "stdout",
     "output_type": "stream",
     "text": [
      "Measurements:  [[0, 3.9764237690590174, -2.1703066968138915], [1, -1.7069663914044264, 2.1463031427226644], [2, 1.3577781342172965, 1.2110476683443876]]\n",
      "Motion:  [1, 2]\n"
     ]
    }
   ],
   "source": [
    "# in this example, we have only created one time step (0)\n",
    "time_step = 0\n",
    "\n",
    "# so you can access robot measurements:\n",
    "print('Measurements: ', data[time_step][0])\n",
    "\n",
    "# and its motion for a given time step:\n",
    "print('Motion: ', data[time_step][1])"
   ]
  },
  {
   "cell_type": "code",
   "execution_count": 24,
   "id": "b4552301-fd66-4850-8b8c-aae58e62173d",
   "metadata": {},
   "outputs": [
    {
     "name": "stdout",
     "output_type": "stream",
     "text": [
      " \n",
      "Landmarks:  [[12, 78], [88, 29], [73, 19], [17, 18], [39, 93]]\n",
      "Robot : x=43.15445, y=40.98619\n"
     ]
    }
   ],
   "source": [
    "# world parameters\n",
    "num_landmarks      = 5        # number of landmarks\n",
    "N                  = 20       # time steps\n",
    "world_size         = 100.0    # size of world (square)\n",
    "\n",
    "# robot parameters\n",
    "measurement_range  = 50.0     # range at which we can sense landmark\n",
    "motion_noise       = 2.0      # noise in robot motion\n",
    "measurement_noise  = 2.0      # noise in the measurements\n",
    "distance           = 20.0     # distance by which robot (intends to) move each iteratation \n",
    "\n",
    "\n",
    "# make_data instantiates a robot, AND generates random landmarks for a given world size and number of landmarks\n",
    "data = make_data(N, num_landmarks, world_size, measurement_range, motion_noise, measurement_noise, distance)"
   ]
  },
  {
   "cell_type": "code",
   "execution_count": 25,
   "id": "a062b45c-d533-4fc6-b9fa-e0a124392e00",
   "metadata": {},
   "outputs": [
    {
     "name": "stdout",
     "output_type": "stream",
     "text": [
      "Example measurements: \n",
      " [[0, -38.751278900714375, 27.248721099285625], [1, 37.05128810340043, -21.948711896599573], [2, 24.82361942433557, -29.17638057566443], [3, -33.28068965187304, -32.28068965187304], [4, -12.73775424595693, 41.26224575404307]]\n",
      "\n",
      "\n",
      "Example motion: \n",
      " [19.69202031849313, 3.4963317600098547]\n"
     ]
    }
   ],
   "source": [
    "# print out some stats about the data\n",
    "time_step = 0\n",
    "\n",
    "print('Example measurements: \\n', data[time_step][0])\n",
    "print('\\n')\n",
    "print('Example motion: \\n', data[time_step][1])"
   ]
  },
  {
   "cell_type": "code",
   "execution_count": null,
   "id": "d39ec309-c8b7-4cf1-b052-ea8452b27c2c",
   "metadata": {},
   "outputs": [],
   "source": [
    "def initialize_cons"
   ]
  }
 ],
 "metadata": {
  "kernelspec": {
   "display_name": "Python 3",
   "language": "python",
   "name": "python3"
  },
  "language_info": {
   "codemirror_mode": {
    "name": "ipython",
    "version": 3
   },
   "file_extension": ".py",
   "mimetype": "text/x-python",
   "name": "python",
   "nbconvert_exporter": "python",
   "pygments_lexer": "ipython3",
   "version": "3.9.13"
  }
 },
 "nbformat": 4,
 "nbformat_minor": 5
}
